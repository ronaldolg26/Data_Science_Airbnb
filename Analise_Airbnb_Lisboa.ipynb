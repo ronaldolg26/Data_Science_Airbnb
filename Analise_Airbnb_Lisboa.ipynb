{
  "nbformat": 4,
  "nbformat_minor": 0,
  "metadata": {
    "colab": {
      "name": "Analise_Airbnb_Lisboa.ipynb",
      "provenance": [],
      "collapsed_sections": [],
      "authorship_tag": "ABX9TyM8oPT+EsHnCLVQZtUoq7hR",
      "include_colab_link": true
    },
    "kernelspec": {
      "name": "python3",
      "display_name": "Python 3"
    },
    "language_info": {
      "name": "python"
    }
  },
  "cells": [
    {
      "cell_type": "markdown",
      "metadata": {
        "id": "view-in-github",
        "colab_type": "text"
      },
      "source": [
        "<a href=\"https://colab.research.google.com/github/ronaldolg26/estudo_para_datascience/blob/main/Analise_Airbnb_Lisboa.ipynb\" target=\"_parent\"><img src=\"https://colab.research.google.com/assets/colab-badge.svg\" alt=\"Open In Colab\"/></a>"
      ]
    },
    {
      "cell_type": "markdown",
      "source": [
        "# Airbnb em Lisboa"
      ],
      "metadata": {
        "id": "3KMOoQF03Ewz"
      }
    },
    {
      "cell_type": "markdown",
      "source": [
        "<img src=\"https://viagemeturismo.abril.com.br/wp-content/uploads/2017/01/belem-tower-2809818_1920.jpg?quality=70&strip=info&resize=680,453\" >"
      ],
      "metadata": {
        "id": "kCKeb4Wo2Cux"
      }
    },
    {
      "cell_type": "markdown",
      "source": [
        "O Airbnb é considerado a maior rede hoteleira do mundo sem ao menos ter um único hotel fisicamente.\n",
        "\n",
        "O diferencial da empresa está e simplificar a hospedagem de pessoas querem viajar com outras que tem quartos, casas, apartamentos para alugar.\n",
        "\n",
        "No final de 2018, a Startup fundada 10 anos atrás, já havia hospedado mais de 300 milhões de pessoas ao redor de todo o mundo, desafiando as redes hoteleiras tradicionais.\n",
        "\n",
        "Uma das iniciativas do Airbnb é disponibilizar dados do site, para algumas das principais cidades do mundo. Por meio do portal Inside Airbnb, é possível baixar uma grande quantidade de dados para desenvolver projetos e soluções de Data Science.\n"
      ],
      "metadata": {
        "id": "z8odpri08Zm4"
      }
    },
    {
      "cell_type": "markdown",
      "source": [
        "##Lisboa\n",
        "Um dos dataset disponíveis para analise, está o da capital de Portugal, Lisboa. A sua gastronomia e sua arquitetura secular atraem cerca de 20 milhões de passageiros anualmente. Logo, esse Notebook se propõe em fazer uma análise dos dados da capital portuguesa em busca de insights a partir de dados brutos de 2021 disponibilizados pelo Airbnb."
      ],
      "metadata": {
        "id": "mjIxiuik98EO"
      }
    },
    {
      "cell_type": "markdown",
      "source": [
        "##Obtenção dos Dados\n",
        "Os dados usados foram obtidos a partir do site Inside Airbnb.\n",
        "\n",
        "Por esta ser uma análise exploratória inicial, os dados utilizados nesse projeto, são uma versão resumida do dataset.\n",
        "\n",
        "```listings.csv``` - Summary information and metrics for listings in Lisboa (good for visualisations).\n"
      ],
      "metadata": {
        "id": "Y6EjLH8BFUx3"
      }
    },
    {
      "cell_type": "code",
      "source": [
        "# importar os pacotes necessarios\n",
        "import pandas as pd \n",
        "import matplotlib.pyplot as plt\n",
        "import seaborn as sns\n",
        "\n",
        "%matplotlib inline"
      ],
      "metadata": {
        "id": "rQE6Qt1SFpGl"
      },
      "execution_count": null,
      "outputs": []
    },
    {
      "cell_type": "code",
      "source": [
        "# importar o arquivo listings.csv para um DataFrame\n",
        "df = pd.read_csv('http://data.insideairbnb.com/portugal/lisbon/lisbon/2021-12-08/visualisations/listings.csv')"
      ],
      "metadata": {
        "id": "J6kqkmceGmy-"
      },
      "execution_count": null,
      "outputs": []
    },
    {
      "cell_type": "markdown",
      "source": [
        "##Análise dos Dados\n",
        "Nesta etapa o objetivo é garantir um entendimento de como os dados estão estruturados, de forma que o leitor tenha consciência do que será analisado. Sendo assim, será apresentado um dicionário a respeito de cada uma das variáveis.\n",
        "\n",
        "##Dicionário das variáveis\n",
        "\n",
        "\n",
        "\n",
        "* ``id`` - número de identificação do imóvel\n",
        "* ``name`` - Título do anúncio da propriedade\n",
        "* ``host_id`` - número de identificação do proprietário\n",
        "* ``host_name`` - nome do anfitrião\n",
        "* ``neighbourhood_group`` - coluna sem valores válidos\n",
        "* ``neighbourhood`` - nome do bairro\n",
        "* ``latitude`` - coordenada de latitude da propriedade\n",
        "* ``longitude`` - coordenada de longitude da propriedade\n",
        "* ``room_type`` - tipo de acomodação oferecida\n",
        "* ``price`` - valor do aluguel\n",
        "* ``minimum_nights`` - menor quantidade de noites para alugar\n",
        "* ``number_of_reviews`` - número de reviews\n",
        "* ``last_review`` - data do último review\n",
        "* ``reviews_per_month`` - quantidade de reviews em um mês\n",
        "* ``calculated_host_listings_count`` - quantidade de imóveis do mesmo anfitrião\n",
        "* ``availability_365`` - número de dias de disponibilidade dentro de 365 dias\n",
        "\n",
        "\n",
        "Antes de partirmos para as análises, vamos conhecer um pouco do nosso dataset, dando uma olhada nas 5 primeiras entradas."
      ],
      "metadata": {
        "id": "IqQLGgpxIxzQ"
      }
    },
    {
      "cell_type": "code",
      "source": [
        "# mostrar as 5 primeiras entradas\n",
        "df.head()"
      ],
      "metadata": {
        "colab": {
          "base_uri": "https://localhost:8080/",
          "height": 531
        },
        "id": "vDLz9wAIJRh4",
        "outputId": "60a64b9c-c67d-4e6e-f950-05974d40ecd4"
      },
      "execution_count": null,
      "outputs": [
        {
          "output_type": "execute_result",
          "data": {
            "text/plain": [
              "      id                                              name  host_id  \\\n",
              "0   6499              Belém 1 Bedroom Historical Apartment    14455   \n",
              "1  25659  Heart of Alfama Lisbon Center - Cœur de l'Alfama   107347   \n",
              "2  29248          Apartamento Alfama com vista para o rio!   125768   \n",
              "3  29396                  Alfama Hill - Boutique apartment   126415   \n",
              "4  29720                       TheHOUSE - Your luxury home   128075   \n",
              "\n",
              "   host_name neighbourhood_group      neighbourhood  latitude  longitude  \\\n",
              "0      Bruno              Lisboa               Belm  38.69750   -9.19768   \n",
              "1      Ellie              Lisboa  Santa Maria Maior  38.71241   -9.12706   \n",
              "2    Bárbara              Lisboa  Santa Maria Maior  38.71082   -9.12719   \n",
              "3     Mónica              Lisboa  Santa Maria Maior  38.71156   -9.12987   \n",
              "4  Francisco              Lisboa            Estrela  38.71108   -9.15979   \n",
              "\n",
              "         room_type  price  minimum_nights  number_of_reviews last_review  \\\n",
              "0  Entire home/apt     40               3                 32  2021-11-01   \n",
              "1  Entire home/apt     50               2                127  2021-11-27   \n",
              "2  Entire home/apt     60               5                337  2021-12-03   \n",
              "3  Entire home/apt     60               2                299  2021-12-03   \n",
              "4  Entire home/apt    957               2                 64  2021-11-14   \n",
              "\n",
              "   reviews_per_month  calculated_host_listings_count  availability_365  \\\n",
              "0               0.36                               1               315   \n",
              "1               1.37                               1               325   \n",
              "2               2.53                               1               190   \n",
              "3               2.57                               1               302   \n",
              "4               0.48                               2               248   \n",
              "\n",
              "   number_of_reviews_ltm    license  \n",
              "0                      6        NaN  \n",
              "1                     14  56539/AL.  \n",
              "2                     13   23535/AL  \n",
              "3                     40   28737/AL  \n",
              "4                      9   55695/AL  "
            ],
            "text/html": [
              "\n",
              "  <div id=\"df-6eaa3def-32bb-48e8-80b3-59e1c352ea5b\">\n",
              "    <div class=\"colab-df-container\">\n",
              "      <div>\n",
              "<style scoped>\n",
              "    .dataframe tbody tr th:only-of-type {\n",
              "        vertical-align: middle;\n",
              "    }\n",
              "\n",
              "    .dataframe tbody tr th {\n",
              "        vertical-align: top;\n",
              "    }\n",
              "\n",
              "    .dataframe thead th {\n",
              "        text-align: right;\n",
              "    }\n",
              "</style>\n",
              "<table border=\"1\" class=\"dataframe\">\n",
              "  <thead>\n",
              "    <tr style=\"text-align: right;\">\n",
              "      <th></th>\n",
              "      <th>id</th>\n",
              "      <th>name</th>\n",
              "      <th>host_id</th>\n",
              "      <th>host_name</th>\n",
              "      <th>neighbourhood_group</th>\n",
              "      <th>neighbourhood</th>\n",
              "      <th>latitude</th>\n",
              "      <th>longitude</th>\n",
              "      <th>room_type</th>\n",
              "      <th>price</th>\n",
              "      <th>minimum_nights</th>\n",
              "      <th>number_of_reviews</th>\n",
              "      <th>last_review</th>\n",
              "      <th>reviews_per_month</th>\n",
              "      <th>calculated_host_listings_count</th>\n",
              "      <th>availability_365</th>\n",
              "      <th>number_of_reviews_ltm</th>\n",
              "      <th>license</th>\n",
              "    </tr>\n",
              "  </thead>\n",
              "  <tbody>\n",
              "    <tr>\n",
              "      <th>0</th>\n",
              "      <td>6499</td>\n",
              "      <td>Belém 1 Bedroom Historical Apartment</td>\n",
              "      <td>14455</td>\n",
              "      <td>Bruno</td>\n",
              "      <td>Lisboa</td>\n",
              "      <td>Belm</td>\n",
              "      <td>38.69750</td>\n",
              "      <td>-9.19768</td>\n",
              "      <td>Entire home/apt</td>\n",
              "      <td>40</td>\n",
              "      <td>3</td>\n",
              "      <td>32</td>\n",
              "      <td>2021-11-01</td>\n",
              "      <td>0.36</td>\n",
              "      <td>1</td>\n",
              "      <td>315</td>\n",
              "      <td>6</td>\n",
              "      <td>NaN</td>\n",
              "    </tr>\n",
              "    <tr>\n",
              "      <th>1</th>\n",
              "      <td>25659</td>\n",
              "      <td>Heart of Alfama Lisbon Center - Cœur de l'Alfama</td>\n",
              "      <td>107347</td>\n",
              "      <td>Ellie</td>\n",
              "      <td>Lisboa</td>\n",
              "      <td>Santa Maria Maior</td>\n",
              "      <td>38.71241</td>\n",
              "      <td>-9.12706</td>\n",
              "      <td>Entire home/apt</td>\n",
              "      <td>50</td>\n",
              "      <td>2</td>\n",
              "      <td>127</td>\n",
              "      <td>2021-11-27</td>\n",
              "      <td>1.37</td>\n",
              "      <td>1</td>\n",
              "      <td>325</td>\n",
              "      <td>14</td>\n",
              "      <td>56539/AL.</td>\n",
              "    </tr>\n",
              "    <tr>\n",
              "      <th>2</th>\n",
              "      <td>29248</td>\n",
              "      <td>Apartamento Alfama com vista para o rio!</td>\n",
              "      <td>125768</td>\n",
              "      <td>Bárbara</td>\n",
              "      <td>Lisboa</td>\n",
              "      <td>Santa Maria Maior</td>\n",
              "      <td>38.71082</td>\n",
              "      <td>-9.12719</td>\n",
              "      <td>Entire home/apt</td>\n",
              "      <td>60</td>\n",
              "      <td>5</td>\n",
              "      <td>337</td>\n",
              "      <td>2021-12-03</td>\n",
              "      <td>2.53</td>\n",
              "      <td>1</td>\n",
              "      <td>190</td>\n",
              "      <td>13</td>\n",
              "      <td>23535/AL</td>\n",
              "    </tr>\n",
              "    <tr>\n",
              "      <th>3</th>\n",
              "      <td>29396</td>\n",
              "      <td>Alfama Hill - Boutique apartment</td>\n",
              "      <td>126415</td>\n",
              "      <td>Mónica</td>\n",
              "      <td>Lisboa</td>\n",
              "      <td>Santa Maria Maior</td>\n",
              "      <td>38.71156</td>\n",
              "      <td>-9.12987</td>\n",
              "      <td>Entire home/apt</td>\n",
              "      <td>60</td>\n",
              "      <td>2</td>\n",
              "      <td>299</td>\n",
              "      <td>2021-12-03</td>\n",
              "      <td>2.57</td>\n",
              "      <td>1</td>\n",
              "      <td>302</td>\n",
              "      <td>40</td>\n",
              "      <td>28737/AL</td>\n",
              "    </tr>\n",
              "    <tr>\n",
              "      <th>4</th>\n",
              "      <td>29720</td>\n",
              "      <td>TheHOUSE - Your luxury home</td>\n",
              "      <td>128075</td>\n",
              "      <td>Francisco</td>\n",
              "      <td>Lisboa</td>\n",
              "      <td>Estrela</td>\n",
              "      <td>38.71108</td>\n",
              "      <td>-9.15979</td>\n",
              "      <td>Entire home/apt</td>\n",
              "      <td>957</td>\n",
              "      <td>2</td>\n",
              "      <td>64</td>\n",
              "      <td>2021-11-14</td>\n",
              "      <td>0.48</td>\n",
              "      <td>2</td>\n",
              "      <td>248</td>\n",
              "      <td>9</td>\n",
              "      <td>55695/AL</td>\n",
              "    </tr>\n",
              "  </tbody>\n",
              "</table>\n",
              "</div>\n",
              "      <button class=\"colab-df-convert\" onclick=\"convertToInteractive('df-6eaa3def-32bb-48e8-80b3-59e1c352ea5b')\"\n",
              "              title=\"Convert this dataframe to an interactive table.\"\n",
              "              style=\"display:none;\">\n",
              "        \n",
              "  <svg xmlns=\"http://www.w3.org/2000/svg\" height=\"24px\"viewBox=\"0 0 24 24\"\n",
              "       width=\"24px\">\n",
              "    <path d=\"M0 0h24v24H0V0z\" fill=\"none\"/>\n",
              "    <path d=\"M18.56 5.44l.94 2.06.94-2.06 2.06-.94-2.06-.94-.94-2.06-.94 2.06-2.06.94zm-11 1L8.5 8.5l.94-2.06 2.06-.94-2.06-.94L8.5 2.5l-.94 2.06-2.06.94zm10 10l.94 2.06.94-2.06 2.06-.94-2.06-.94-.94-2.06-.94 2.06-2.06.94z\"/><path d=\"M17.41 7.96l-1.37-1.37c-.4-.4-.92-.59-1.43-.59-.52 0-1.04.2-1.43.59L10.3 9.45l-7.72 7.72c-.78.78-.78 2.05 0 2.83L4 21.41c.39.39.9.59 1.41.59.51 0 1.02-.2 1.41-.59l7.78-7.78 2.81-2.81c.8-.78.8-2.07 0-2.86zM5.41 20L4 18.59l7.72-7.72 1.47 1.35L5.41 20z\"/>\n",
              "  </svg>\n",
              "      </button>\n",
              "      \n",
              "  <style>\n",
              "    .colab-df-container {\n",
              "      display:flex;\n",
              "      flex-wrap:wrap;\n",
              "      gap: 12px;\n",
              "    }\n",
              "\n",
              "    .colab-df-convert {\n",
              "      background-color: #E8F0FE;\n",
              "      border: none;\n",
              "      border-radius: 50%;\n",
              "      cursor: pointer;\n",
              "      display: none;\n",
              "      fill: #1967D2;\n",
              "      height: 32px;\n",
              "      padding: 0 0 0 0;\n",
              "      width: 32px;\n",
              "    }\n",
              "\n",
              "    .colab-df-convert:hover {\n",
              "      background-color: #E2EBFA;\n",
              "      box-shadow: 0px 1px 2px rgba(60, 64, 67, 0.3), 0px 1px 3px 1px rgba(60, 64, 67, 0.15);\n",
              "      fill: #174EA6;\n",
              "    }\n",
              "\n",
              "    [theme=dark] .colab-df-convert {\n",
              "      background-color: #3B4455;\n",
              "      fill: #D2E3FC;\n",
              "    }\n",
              "\n",
              "    [theme=dark] .colab-df-convert:hover {\n",
              "      background-color: #434B5C;\n",
              "      box-shadow: 0px 1px 3px 1px rgba(0, 0, 0, 0.15);\n",
              "      filter: drop-shadow(0px 1px 2px rgba(0, 0, 0, 0.3));\n",
              "      fill: #FFFFFF;\n",
              "    }\n",
              "  </style>\n",
              "\n",
              "      <script>\n",
              "        const buttonEl =\n",
              "          document.querySelector('#df-6eaa3def-32bb-48e8-80b3-59e1c352ea5b button.colab-df-convert');\n",
              "        buttonEl.style.display =\n",
              "          google.colab.kernel.accessAllowed ? 'block' : 'none';\n",
              "\n",
              "        async function convertToInteractive(key) {\n",
              "          const element = document.querySelector('#df-6eaa3def-32bb-48e8-80b3-59e1c352ea5b');\n",
              "          const dataTable =\n",
              "            await google.colab.kernel.invokeFunction('convertToInteractive',\n",
              "                                                     [key], {});\n",
              "          if (!dataTable) return;\n",
              "\n",
              "          const docLinkHtml = 'Like what you see? Visit the ' +\n",
              "            '<a target=\"_blank\" href=https://colab.research.google.com/notebooks/data_table.ipynb>data table notebook</a>'\n",
              "            + ' to learn more about interactive tables.';\n",
              "          element.innerHTML = '';\n",
              "          dataTable['output_type'] = 'display_data';\n",
              "          await google.colab.output.renderOutput(dataTable, element);\n",
              "          const docLink = document.createElement('div');\n",
              "          docLink.innerHTML = docLinkHtml;\n",
              "          element.appendChild(docLink);\n",
              "        }\n",
              "      </script>\n",
              "    </div>\n",
              "  </div>\n",
              "  "
            ]
          },
          "metadata": {},
          "execution_count": 44
        }
      ]
    },
    {
      "cell_type": "markdown",
      "source": [
        "##Quantos atributos (variáveis) e quantas entradas o nosso conjunto de dados possui? Quais os tipos das variáveis?\n",
        "\n",
        "Com algumas linhas de código, é possível notar a presença de 18 variáveis e 18527 entradas, sendo algumas delas dos tipos, inteiro, float e objeto."
      ],
      "metadata": {
        "id": "qJcJD3i4J_v2"
      }
    },
    {
      "cell_type": "code",
      "source": [
        "# identificar o volume de dados do DataFrame\n",
        "print('Entradas:\\t {}'.format(df.shape[0]))\n",
        "print('Variáveis:\\t {}'.format(df.shape[1]))\n",
        "\n",
        "display(df.dtypes)"
      ],
      "metadata": {
        "colab": {
          "base_uri": "https://localhost:8080/",
          "height": 382
        },
        "id": "WdoM9idHJ4NP",
        "outputId": "5fb2ef3a-80cd-4d42-f1d6-2b06c6471368"
      },
      "execution_count": null,
      "outputs": [
        {
          "output_type": "stream",
          "name": "stdout",
          "text": [
            "Entradas:\t 18527\n",
            "Variáveis:\t 18\n"
          ]
        },
        {
          "output_type": "display_data",
          "data": {
            "text/plain": [
              "id                                  int64\n",
              "name                               object\n",
              "host_id                             int64\n",
              "host_name                          object\n",
              "neighbourhood_group                object\n",
              "neighbourhood                      object\n",
              "latitude                          float64\n",
              "longitude                         float64\n",
              "room_type                          object\n",
              "price                               int64\n",
              "minimum_nights                      int64\n",
              "number_of_reviews                   int64\n",
              "last_review                        object\n",
              "reviews_per_month                 float64\n",
              "calculated_host_listings_count      int64\n",
              "availability_365                    int64\n",
              "number_of_reviews_ltm               int64\n",
              "license                            object\n",
              "dtype: object"
            ]
          },
          "metadata": {}
        }
      ]
    },
    {
      "cell_type": "markdown",
      "source": [
        "Qual a porcentagem de valores ausentes no dataset?\n",
        "Quando buscamos um dataset queremos um com qualidade, é possível mensurar isso de acordo com a quantidade de valores ausentes. É necessário entender se os valores nulos são significativos comparados ao total de entradas.\n",
        "\n",
        "* Na coluna ``reviews_per_month`` e ``last_review`` são nulos 13,52 % dos dados\n",
        "* 9% dos valores da variável ``license`` são nulos.\n",
        "* Apenas 0,12% da variável ``host_name`` é nulo, seguido de 0,04 % da variável ``name``"
      ],
      "metadata": {
        "id": "51znGfjCLxqn"
      }
    },
    {
      "cell_type": "code",
      "source": [
        "# ordenar em ordem decrescente as variáveis por seus valores ausentes\n",
        "((df.isnull().sum() / df.shape[0])*100).sort_values(ascending = False) "
      ],
      "metadata": {
        "colab": {
          "base_uri": "https://localhost:8080/"
        },
        "id": "RXbiirkEKekG",
        "outputId": "b57f9f5e-c522-4940-87e2-6365fd8d890f"
      },
      "execution_count": null,
      "outputs": [
        {
          "output_type": "execute_result",
          "data": {
            "text/plain": [
              "reviews_per_month                 13.526205\n",
              "last_review                       13.526205\n",
              "license                            9.710153\n",
              "host_name                          0.124143\n",
              "name                               0.043180\n",
              "minimum_nights                     0.000000\n",
              "number_of_reviews_ltm              0.000000\n",
              "availability_365                   0.000000\n",
              "calculated_host_listings_count     0.000000\n",
              "number_of_reviews                  0.000000\n",
              "id                                 0.000000\n",
              "room_type                          0.000000\n",
              "longitude                          0.000000\n",
              "latitude                           0.000000\n",
              "neighbourhood                      0.000000\n",
              "neighbourhood_group                0.000000\n",
              "host_id                            0.000000\n",
              "price                              0.000000\n",
              "dtype: float64"
            ]
          },
          "metadata": {},
          "execution_count": 46
        }
      ]
    },
    {
      "cell_type": "code",
      "source": [
        "# excluindo valores ausentes\n",
        "df.dropna(axis=0, inplace=True)\n",
        "\n",
        "# verificando o resultado\n",
        "(df.isnull().sum()).sort_values(ascending=False)"
      ],
      "metadata": {
        "colab": {
          "base_uri": "https://localhost:8080/"
        },
        "id": "P5BALizFN-PX",
        "outputId": "5e2759b7-2a9f-4a3b-966e-5112505fe02a"
      },
      "execution_count": null,
      "outputs": [
        {
          "output_type": "execute_result",
          "data": {
            "text/plain": [
              "id                                0\n",
              "name                              0\n",
              "number_of_reviews_ltm             0\n",
              "availability_365                  0\n",
              "calculated_host_listings_count    0\n",
              "reviews_per_month                 0\n",
              "last_review                       0\n",
              "number_of_reviews                 0\n",
              "minimum_nights                    0\n",
              "price                             0\n",
              "room_type                         0\n",
              "longitude                         0\n",
              "latitude                          0\n",
              "neighbourhood                     0\n",
              "neighbourhood_group               0\n",
              "host_name                         0\n",
              "host_id                           0\n",
              "license                           0\n",
              "dtype: int64"
            ]
          },
          "metadata": {},
          "execution_count": 47
        }
      ]
    },
    {
      "cell_type": "markdown",
      "source": [
        "##Qual o tipo de distribuição das variáveis?\n",
        "Para termos uma melhor visualização a respeito da distribuição das variáveis, irei plotar um histograma."
      ],
      "metadata": {
        "id": "wBMTry5_PV_i"
      }
    },
    {
      "cell_type": "code",
      "source": [
        "# plotar o histograma das variáveis numéricas\n",
        "df.hist(bins=15, figsize=(20,15), grid=False);"
      ],
      "metadata": {
        "colab": {
          "base_uri": "https://localhost:8080/",
          "height": 879
        },
        "id": "yFRiWn2_PUop",
        "outputId": "1fa4a85b-23c1-43c3-84b3-b5f8ca78f367"
      },
      "execution_count": null,
      "outputs": [
        {
          "output_type": "display_data",
          "data": {
            "text/plain": [
              "<Figure size 1440x1080 with 12 Axes>"
            ],
            "image/png": "[encoded data removed]"
          },
          "metadata": {
            "needs_background": "light"
          }
        }
      ]
    },
    {
      "cell_type": "markdown",
      "source": [
        "##Há Outliers presentes?\n",
        "Se prestarmos atenção na forma em como o histograma está distribuindo os dados, podemos encontrar indicativos da presença de outliers. É possível pegarmos como exemplo as variáveis ``price``, ``minimum_nights`` e ``calculated_host_listings_count``.\n",
        "\n",
        "Os valores não seguem uma distribuição, e distorcem a representação gráfica. Para confirmar, existem duas maneiras rápidas que auxiliam a detecção de outliers. São elas:"
      ],
      "metadata": {
        "id": "Fwa0wVrDQpNH"
      }
    },
    {
      "cell_type": "code",
      "source": [
        "# ver o resumo estatístico das variáveis numéricas\n",
        "df[['price', 'minimum_nights', 'number_of_reviews', 'reviews_per_month',\n",
        "    'calculated_host_listings_count', 'availability_365']].describe()"
      ],
      "metadata": {
        "colab": {
          "base_uri": "https://localhost:8080/",
          "height": 300
        },
        "id": "1_XG6mZBRp6Y",
        "outputId": "1e07260b-7d78-49ad-e38f-b3efc553ce25"
      },
      "execution_count": null,
      "outputs": [
        {
          "output_type": "execute_result",
          "data": {
            "text/plain": [
              "              price  minimum_nights  number_of_reviews  reviews_per_month  \\\n",
              "count  14454.000000    14454.000000       14454.000000       14454.000000   \n",
              "mean      91.848554        3.621143          56.215235           1.261445   \n",
              "std      172.706430       15.933785          77.740398           1.375710   \n",
              "min        8.000000        1.000000           1.000000           0.010000   \n",
              "25%       50.000000        2.000000           6.000000           0.320000   \n",
              "50%       69.000000        2.000000          24.000000           0.880000   \n",
              "75%      100.000000        3.000000          76.000000           1.837500   \n",
              "max    11499.000000     1000.000000        1550.000000          64.440000   \n",
              "\n",
              "       calculated_host_listings_count  availability_365  \n",
              "count                    14454.000000      14454.000000  \n",
              "mean                        15.662031        221.500069  \n",
              "std                         40.719962        127.307904  \n",
              "min                          1.000000          0.000000  \n",
              "25%                          1.000000        123.000000  \n",
              "50%                          4.000000        261.000000  \n",
              "75%                         12.000000        338.000000  \n",
              "max                        281.000000        365.000000  "
            ],
            "text/html": [
              "\n",
              "  <div id=\"df-16f3e455-5536-46dd-aa56-f42fc86374b7\">\n",
              "    <div class=\"colab-df-container\">\n",
              "      <div>\n",
              "<style scoped>\n",
              "    .dataframe tbody tr th:only-of-type {\n",
              "        vertical-align: middle;\n",
              "    }\n",
              "\n",
              "    .dataframe tbody tr th {\n",
              "        vertical-align: top;\n",
              "    }\n",
              "\n",
              "    .dataframe thead th {\n",
              "        text-align: right;\n",
              "    }\n",
              "</style>\n",
              "<table border=\"1\" class=\"dataframe\">\n",
              "  <thead>\n",
              "    <tr style=\"text-align: right;\">\n",
              "      <th></th>\n",
              "      <th>price</th>\n",
              "      <th>minimum_nights</th>\n",
              "      <th>number_of_reviews</th>\n",
              "      <th>reviews_per_month</th>\n",
              "      <th>calculated_host_listings_count</th>\n",
              "      <th>availability_365</th>\n",
              "    </tr>\n",
              "  </thead>\n",
              "  <tbody>\n",
              "    <tr>\n",
              "      <th>count</th>\n",
              "      <td>14454.000000</td>\n",
              "      <td>14454.000000</td>\n",
              "      <td>14454.000000</td>\n",
              "      <td>14454.000000</td>\n",
              "      <td>14454.000000</td>\n",
              "      <td>14454.000000</td>\n",
              "    </tr>\n",
              "    <tr>\n",
              "      <th>mean</th>\n",
              "      <td>91.848554</td>\n",
              "      <td>3.621143</td>\n",
              "      <td>56.215235</td>\n",
              "      <td>1.261445</td>\n",
              "      <td>15.662031</td>\n",
              "      <td>221.500069</td>\n",
              "    </tr>\n",
              "    <tr>\n",
              "      <th>std</th>\n",
              "      <td>172.706430</td>\n",
              "      <td>15.933785</td>\n",
              "      <td>77.740398</td>\n",
              "      <td>1.375710</td>\n",
              "      <td>40.719962</td>\n",
              "      <td>127.307904</td>\n",
              "    </tr>\n",
              "    <tr>\n",
              "      <th>min</th>\n",
              "      <td>8.000000</td>\n",
              "      <td>1.000000</td>\n",
              "      <td>1.000000</td>\n",
              "      <td>0.010000</td>\n",
              "      <td>1.000000</td>\n",
              "      <td>0.000000</td>\n",
              "    </tr>\n",
              "    <tr>\n",
              "      <th>25%</th>\n",
              "      <td>50.000000</td>\n",
              "      <td>2.000000</td>\n",
              "      <td>6.000000</td>\n",
              "      <td>0.320000</td>\n",
              "      <td>1.000000</td>\n",
              "      <td>123.000000</td>\n",
              "    </tr>\n",
              "    <tr>\n",
              "      <th>50%</th>\n",
              "      <td>69.000000</td>\n",
              "      <td>2.000000</td>\n",
              "      <td>24.000000</td>\n",
              "      <td>0.880000</td>\n",
              "      <td>4.000000</td>\n",
              "      <td>261.000000</td>\n",
              "    </tr>\n",
              "    <tr>\n",
              "      <th>75%</th>\n",
              "      <td>100.000000</td>\n",
              "      <td>3.000000</td>\n",
              "      <td>76.000000</td>\n",
              "      <td>1.837500</td>\n",
              "      <td>12.000000</td>\n",
              "      <td>338.000000</td>\n",
              "    </tr>\n",
              "    <tr>\n",
              "      <th>max</th>\n",
              "      <td>11499.000000</td>\n",
              "      <td>1000.000000</td>\n",
              "      <td>1550.000000</td>\n",
              "      <td>64.440000</td>\n",
              "      <td>281.000000</td>\n",
              "      <td>365.000000</td>\n",
              "    </tr>\n",
              "  </tbody>\n",
              "</table>\n",
              "</div>\n",
              "      <button class=\"colab-df-convert\" onclick=\"convertToInteractive('df-16f3e455-5536-46dd-aa56-f42fc86374b7')\"\n",
              "              title=\"Convert this dataframe to an interactive table.\"\n",
              "              style=\"display:none;\">\n",
              "        \n",
              "  <svg xmlns=\"http://www.w3.org/2000/svg\" height=\"24px\"viewBox=\"0 0 24 24\"\n",
              "       width=\"24px\">\n",
              "    <path d=\"M0 0h24v24H0V0z\" fill=\"none\"/>\n",
              "    <path d=\"M18.56 5.44l.94 2.06.94-2.06 2.06-.94-2.06-.94-.94-2.06-.94 2.06-2.06.94zm-11 1L8.5 8.5l.94-2.06 2.06-.94-2.06-.94L8.5 2.5l-.94 2.06-2.06.94zm10 10l.94 2.06.94-2.06 2.06-.94-2.06-.94-.94-2.06-.94 2.06-2.06.94z\"/><path d=\"M17.41 7.96l-1.37-1.37c-.4-.4-.92-.59-1.43-.59-.52 0-1.04.2-1.43.59L10.3 9.45l-7.72 7.72c-.78.78-.78 2.05 0 2.83L4 21.41c.39.39.9.59 1.41.59.51 0 1.02-.2 1.41-.59l7.78-7.78 2.81-2.81c.8-.78.8-2.07 0-2.86zM5.41 20L4 18.59l7.72-7.72 1.47 1.35L5.41 20z\"/>\n",
              "  </svg>\n",
              "      </button>\n",
              "      \n",
              "  <style>\n",
              "    .colab-df-container {\n",
              "      display:flex;\n",
              "      flex-wrap:wrap;\n",
              "      gap: 12px;\n",
              "    }\n",
              "\n",
              "    .colab-df-convert {\n",
              "      background-color: #E8F0FE;\n",
              "      border: none;\n",
              "      border-radius: 50%;\n",
              "      cursor: pointer;\n",
              "      display: none;\n",
              "      fill: #1967D2;\n",
              "      height: 32px;\n",
              "      padding: 0 0 0 0;\n",
              "      width: 32px;\n",
              "    }\n",
              "\n",
              "    .colab-df-convert:hover {\n",
              "      background-color: #E2EBFA;\n",
              "      box-shadow: 0px 1px 2px rgba(60, 64, 67, 0.3), 0px 1px 3px 1px rgba(60, 64, 67, 0.15);\n",
              "      fill: #174EA6;\n",
              "    }\n",
              "\n",
              "    [theme=dark] .colab-df-convert {\n",
              "      background-color: #3B4455;\n",
              "      fill: #D2E3FC;\n",
              "    }\n",
              "\n",
              "    [theme=dark] .colab-df-convert:hover {\n",
              "      background-color: #434B5C;\n",
              "      box-shadow: 0px 1px 3px 1px rgba(0, 0, 0, 0.15);\n",
              "      filter: drop-shadow(0px 1px 2px rgba(0, 0, 0, 0.3));\n",
              "      fill: #FFFFFF;\n",
              "    }\n",
              "  </style>\n",
              "\n",
              "      <script>\n",
              "        const buttonEl =\n",
              "          document.querySelector('#df-16f3e455-5536-46dd-aa56-f42fc86374b7 button.colab-df-convert');\n",
              "        buttonEl.style.display =\n",
              "          google.colab.kernel.accessAllowed ? 'block' : 'none';\n",
              "\n",
              "        async function convertToInteractive(key) {\n",
              "          const element = document.querySelector('#df-16f3e455-5536-46dd-aa56-f42fc86374b7');\n",
              "          const dataTable =\n",
              "            await google.colab.kernel.invokeFunction('convertToInteractive',\n",
              "                                                     [key], {});\n",
              "          if (!dataTable) return;\n",
              "\n",
              "          const docLinkHtml = 'Like what you see? Visit the ' +\n",
              "            '<a target=\"_blank\" href=https://colab.research.google.com/notebooks/data_table.ipynb>data table notebook</a>'\n",
              "            + ' to learn more about interactive tables.';\n",
              "          element.innerHTML = '';\n",
              "          dataTable['output_type'] = 'display_data';\n",
              "          await google.colab.output.renderOutput(dataTable, element);\n",
              "          const docLink = document.createElement('div');\n",
              "          docLink.innerHTML = docLinkHtml;\n",
              "          element.appendChild(docLink);\n",
              "        }\n",
              "      </script>\n",
              "    </div>\n",
              "  </div>\n",
              "  "
            ]
          },
          "metadata": {},
          "execution_count": 16
        }
      ]
    },
    {
      "cell_type": "markdown",
      "source": [
        "Olhando o resumo estatístico acima, podemos confirmar algumas hipóteses como:\n",
        "\n",
        "* A variável price possui 75% do valor abaixo de 100,00, porém seu valor máximo é 11499,00.\n",
        "* O valor máximo para a variável (minimum_nights) está acima de 365 dias no ano."
      ],
      "metadata": {
        "id": "twoNi19BTI3K"
      }
    },
    {
      "cell_type": "markdown",
      "source": [
        "###Definindo limites para 'minimum_nights'"
      ],
      "metadata": {
        "id": "SnWymSFUTr4R"
      }
    },
    {
      "cell_type": "code",
      "source": [
        "q1_minimum_nights = df.minimum_nights.quantile(.25)\n",
        "q3_minimum_nights = df.minimum_nights.quantile(.75)\n",
        "IQR_minimum_nights = q3_minimum_nights - q1_minimum_nights\n",
        "print('IQR da variável minimum_nights: ', IQR_minimum_nights)\n",
        "\n",
        "# definindo os limites\n",
        "sup_minimum_nights = q3_minimum_nights + 1.5 * IQR_minimum_nights\n",
        "inf_minimum_nights = q1_minimum_nights - 1.5 * IQR_minimum_nights\n",
        "\n",
        "print('Limite superior de minimum_nigths: ', sup_minimum_nights)\n",
        "print('Limite inferios de minimum_nigths: ', inf_minimum_nights)"
      ],
      "metadata": {
        "colab": {
          "base_uri": "https://localhost:8080/"
        },
        "id": "Xsf_uW30TH6x",
        "outputId": "da6550f1-2feb-48ca-a1af-e9864f40e688"
      },
      "execution_count": null,
      "outputs": [
        {
          "output_type": "stream",
          "name": "stdout",
          "text": [
            "IQR da variável minimum_nights:  1.0\n",
            "Limite superior de minimum_nigths:  4.5\n",
            "Limite inferios de minimum_nigths:  0.5\n"
          ]
        }
      ]
    },
    {
      "cell_type": "markdown",
      "source": [
        "###Boxplot para minimum_nights"
      ],
      "metadata": {
        "id": "IBggAncNU8xg"
      }
    },
    {
      "cell_type": "code",
      "source": [
        "# minimum_nights\n",
        "df.minimum_nights.plot(kind='box', vert=False, figsize=(15, 3))\n",
        "plt.show()\n",
        "\n",
        "# ver quantidade de valores acima de 6 dias para minimum_nights\n",
        "print('minimum_nights: valores acima de 4.5:')\n",
        "print('{} entradas.'.format(len(df[df.minimum_nights > 4.5])))\n",
        "print('{:.4f}%'.format((len(df[df.minimum_nights > 4.5]) / df.shape[0])*100))"
      ],
      "metadata": {
        "colab": {
          "base_uri": "https://localhost:8080/",
          "height": 263
        },
        "id": "MX4ExXrjU8EU",
        "outputId": "2f2328fa-3c35-47f1-c7c9-46b291722104"
      },
      "execution_count": null,
      "outputs": [
        {
          "output_type": "display_data",
          "data": {
            "text/plain": [
              "<Figure size 1080x216 with 1 Axes>"
            ],
            "image/png": "[encoded data removed]"
          },
          "metadata": {
            "needs_background": "light"
          }
        },
        {
          "output_type": "stream",
          "name": "stdout",
          "text": [
            "minimum_nights: valores acima de 4.5:\n",
            "1406 entradas.\n",
            "9.7274%\n"
          ]
        }
      ]
    },
    {
      "cell_type": "markdown",
      "source": [
        "Com isso podemos extrair algumas informações:\n",
        "\n",
        "* Cerca de 1406 acomodações tem um mínimo acima de 4.5 noites\n",
        "* Essas acomodações representam apenas 9.72% do dataset"
      ],
      "metadata": {
        "id": "vC398IIrVNaJ"
      }
    },
    {
      "cell_type": "markdown",
      "source": [
        "## Definindo limites para 'Price'"
      ],
      "metadata": {
        "id": "PZ2NjwOuVh_K"
      }
    },
    {
      "cell_type": "code",
      "source": [
        "# identificando os outliers para a variável price\n",
        "q1_price = df.price.quantile(.25)\n",
        "q3_price = df.price.quantile(.75)\n",
        "IQR_price = q3_price - q1_price\n",
        "print('IQR da variável price: ', IQR_price)\n",
        "\n",
        "# definindo os limites \n",
        "sup_price = q3_price + 1.5 * IQR_price\n",
        "inf_price = q1_price - 1.5 * IQR_price\n",
        "\n",
        "print('Limite superior de price: ', sup_price)\n",
        "print('Limite inferior de price: ', inf_price)"
      ],
      "metadata": {
        "colab": {
          "base_uri": "https://localhost:8080/"
        },
        "id": "7ZHeaP7eVMnK",
        "outputId": "1f9d7160-ecb5-473d-ec84-1364a2e101f4"
      },
      "execution_count": null,
      "outputs": [
        {
          "output_type": "stream",
          "name": "stdout",
          "text": [
            "IQR da variável price:  50.0\n",
            "Limite superior de price:  175.0\n",
            "Limite inferior de price:  -25.0\n"
          ]
        }
      ]
    },
    {
      "cell_type": "markdown",
      "source": [
        "Perceba que os valores mínimos não condizem com a realidade pois há preços negativos. "
      ],
      "metadata": {
        "id": "had5hViFVyfx"
      }
    },
    {
      "cell_type": "markdown",
      "source": [
        "##Boxplot para price"
      ],
      "metadata": {
        "id": "kMgCM4MkZSHB"
      }
    },
    {
      "cell_type": "code",
      "source": [
        "# price\n",
        "df.price.plot(kind='box', vert=False, figsize=(15, 3))\n",
        "plt.show()\n",
        "\n",
        "# ver quantidade de valores acima de 240 para price\n",
        "print('\\nprice: valores acima de 175')\n",
        "print('{} entradas'.format(len(df[df.price > 175])))\n",
        "print('{:.4f}%'.format((len(df[df.price > 175]) / df.shape[0])*100))"
      ],
      "metadata": {
        "colab": {
          "base_uri": "https://localhost:8080/",
          "height": 280
        },
        "id": "dJ26eG4TZRBH",
        "outputId": "c63bedba-aeab-4bf6-acd8-d8eb4951ee21"
      },
      "execution_count": null,
      "outputs": [
        {
          "output_type": "display_data",
          "data": {
            "text/plain": [
              "<Figure size 1080x216 with 1 Axes>"
            ],
            "image/png": "[encoded data removed]"
          },
          "metadata": {
            "needs_background": "light"
          }
        },
        {
          "output_type": "stream",
          "name": "stdout",
          "text": [
            "\n",
            "price: valores acima de 175\n",
            "1076 entradas\n",
            "7.4443%\n"
          ]
        }
      ]
    },
    {
      "cell_type": "markdown",
      "source": [
        "Alguns insights tirados dessa análise:\n",
        "\n",
        "* Existem aproximadamente 1076 entradas de acomodações com valores acima de 175\n",
        "* E essas acomodações representam apenas 7,44% do dataset"
      ],
      "metadata": {
        "id": "F8Ah9YqxaAQb"
      }
    },
    {
      "cell_type": "markdown",
      "source": [
        "## Limpando o dataset\n",
        "Após identificarmos outliers nas variáveis price e minimum_nights, vamos limpar o Dataset."
      ],
      "metadata": {
        "id": "4k-b58ZBb3cU"
      }
    },
    {
      "cell_type": "code",
      "source": [
        "# remover os *outliers* em um novo DataFrame\n",
        "df_clean = df.copy()\n",
        "df_clean.drop(df_clean[df.price > 175].index, axis=0, inplace=True)\n",
        "df_clean.drop(df_clean[df.price == 0.0].index, axis=0, inplace=True)\n",
        "df_clean.drop(df_clean[df.minimum_nights > 4.5].index, axis=0, inplace=True)\n",
        "\n",
        "print('Shape antes da limpeza: ', df.shape)\n",
        "print('Shape depois da limpeza: ', df_clean.shape)"
      ],
      "metadata": {
        "colab": {
          "base_uri": "https://localhost:8080/"
        },
        "id": "LxxEPZtdZ_yt",
        "outputId": "ac72a99e-7d1d-4f02-f35f-795e7e5e98d6"
      },
      "execution_count": null,
      "outputs": [
        {
          "output_type": "stream",
          "name": "stdout",
          "text": [
            "Shape antes da limpeza:  (14454, 18)\n",
            "Shape depois da limpeza:  (12151, 18)\n"
          ]
        },
        {
          "output_type": "stream",
          "name": "stderr",
          "text": [
            "/usr/local/lib/python3.7/dist-packages/ipykernel_launcher.py:4: UserWarning: Boolean Series key will be reindexed to match DataFrame index.\n",
            "  after removing the cwd from sys.path.\n",
            "/usr/local/lib/python3.7/dist-packages/ipykernel_launcher.py:5: UserWarning: Boolean Series key will be reindexed to match DataFrame index.\n",
            "  \"\"\"\n"
          ]
        }
      ]
    },
    {
      "cell_type": "markdown",
      "source": [
        "##Histogramas sem outliers\n",
        "Com o Dataset limpo, irei plotar um histograma sem a presença dos outliers."
      ],
      "metadata": {
        "id": "-W4H17vvdMlr"
      }
    },
    {
      "cell_type": "code",
      "source": [
        "# plotar o histograma para as variáveis numéricas\n",
        "df_clean.hist(bins=15, figsize=(20,15), grid=False);"
      ],
      "metadata": {
        "colab": {
          "base_uri": "https://localhost:8080/",
          "height": 879
        },
        "id": "FVTQ1AeUdG0y",
        "outputId": "60e2dbf7-b2c9-4855-fd3c-aa991f2965ad"
      },
      "execution_count": null,
      "outputs": [
        {
          "output_type": "display_data",
          "data": {
            "text/plain": [
              "<Figure size 1440x1080 with 12 Axes>"
            ],
            "image/png": "[encoded data removed]"
          },
          "metadata": {
            "needs_background": "light"
          }
        }
      ]
    },
    {
      "cell_type": "code",
      "source": [
        "# verificando a distribuição estatística dos dados limpos\n",
        "df_clean.describe().round(1)"
      ],
      "metadata": {
        "colab": {
          "base_uri": "https://localhost:8080/",
          "height": 364
        },
        "id": "M3d6MUm_dazT",
        "outputId": "2318beb4-97eb-4516-9104-d6863b45f33a"
      },
      "execution_count": null,
      "outputs": [
        {
          "output_type": "execute_result",
          "data": {
            "text/plain": [
              "               id      host_id  latitude  longitude    price  minimum_nights  \\\n",
              "count     12151.0      12151.0   12151.0    12151.0  12151.0         12151.0   \n",
              "mean   26684183.9  112376041.2      38.7       -9.2     71.5             2.1   \n",
              "std    14524464.8  115577429.4       0.1        0.1     33.2             0.9   \n",
              "min       25659.0     107347.0      38.7       -9.5      8.0             1.0   \n",
              "25%    15908328.5   15452873.0      38.7       -9.2     49.0             1.0   \n",
              "50%    26219370.0   69064898.0      38.7       -9.1     65.0             2.0   \n",
              "75%    37807199.5  186824778.0      38.7       -9.1     90.0             3.0   \n",
              "max    53567473.0  433801538.0      39.3       -8.9    175.0             4.0   \n",
              "\n",
              "       number_of_reviews  reviews_per_month  calculated_host_listings_count  \\\n",
              "count            12151.0            12151.0                         12151.0   \n",
              "mean                60.6                1.4                            16.9   \n",
              "std                 81.1                1.4                            43.2   \n",
              "min                  1.0                0.0                             1.0   \n",
              "25%                  7.0                0.4                             1.0   \n",
              "50%                 27.0                1.0                             4.0   \n",
              "75%                 84.0                2.0                            12.0   \n",
              "max               1550.0               64.4                           281.0   \n",
              "\n",
              "       availability_365  number_of_reviews_ltm  \n",
              "count           12151.0                12151.0  \n",
              "mean              225.9                    8.8  \n",
              "std               125.9                   14.6  \n",
              "min                 0.0                    0.0  \n",
              "25%               131.0                    1.0  \n",
              "50%               268.0                    4.0  \n",
              "75%               340.0                   13.0  \n",
              "max               365.0                  821.0  "
            ],
            "text/html": [
              "\n",
              "  <div id=\"df-1ad1a47d-16cb-4ebc-824f-30f05411ae00\">\n",
              "    <div class=\"colab-df-container\">\n",
              "      <div>\n",
              "<style scoped>\n",
              "    .dataframe tbody tr th:only-of-type {\n",
              "        vertical-align: middle;\n",
              "    }\n",
              "\n",
              "    .dataframe tbody tr th {\n",
              "        vertical-align: top;\n",
              "    }\n",
              "\n",
              "    .dataframe thead th {\n",
              "        text-align: right;\n",
              "    }\n",
              "</style>\n",
              "<table border=\"1\" class=\"dataframe\">\n",
              "  <thead>\n",
              "    <tr style=\"text-align: right;\">\n",
              "      <th></th>\n",
              "      <th>id</th>\n",
              "      <th>host_id</th>\n",
              "      <th>latitude</th>\n",
              "      <th>longitude</th>\n",
              "      <th>price</th>\n",
              "      <th>minimum_nights</th>\n",
              "      <th>number_of_reviews</th>\n",
              "      <th>reviews_per_month</th>\n",
              "      <th>calculated_host_listings_count</th>\n",
              "      <th>availability_365</th>\n",
              "      <th>number_of_reviews_ltm</th>\n",
              "    </tr>\n",
              "  </thead>\n",
              "  <tbody>\n",
              "    <tr>\n",
              "      <th>count</th>\n",
              "      <td>12151.0</td>\n",
              "      <td>12151.0</td>\n",
              "      <td>12151.0</td>\n",
              "      <td>12151.0</td>\n",
              "      <td>12151.0</td>\n",
              "      <td>12151.0</td>\n",
              "      <td>12151.0</td>\n",
              "      <td>12151.0</td>\n",
              "      <td>12151.0</td>\n",
              "      <td>12151.0</td>\n",
              "      <td>12151.0</td>\n",
              "    </tr>\n",
              "    <tr>\n",
              "      <th>mean</th>\n",
              "      <td>26684183.9</td>\n",
              "      <td>112376041.2</td>\n",
              "      <td>38.7</td>\n",
              "      <td>-9.2</td>\n",
              "      <td>71.5</td>\n",
              "      <td>2.1</td>\n",
              "      <td>60.6</td>\n",
              "      <td>1.4</td>\n",
              "      <td>16.9</td>\n",
              "      <td>225.9</td>\n",
              "      <td>8.8</td>\n",
              "    </tr>\n",
              "    <tr>\n",
              "      <th>std</th>\n",
              "      <td>14524464.8</td>\n",
              "      <td>115577429.4</td>\n",
              "      <td>0.1</td>\n",
              "      <td>0.1</td>\n",
              "      <td>33.2</td>\n",
              "      <td>0.9</td>\n",
              "      <td>81.1</td>\n",
              "      <td>1.4</td>\n",
              "      <td>43.2</td>\n",
              "      <td>125.9</td>\n",
              "      <td>14.6</td>\n",
              "    </tr>\n",
              "    <tr>\n",
              "      <th>min</th>\n",
              "      <td>25659.0</td>\n",
              "      <td>107347.0</td>\n",
              "      <td>38.7</td>\n",
              "      <td>-9.5</td>\n",
              "      <td>8.0</td>\n",
              "      <td>1.0</td>\n",
              "      <td>1.0</td>\n",
              "      <td>0.0</td>\n",
              "      <td>1.0</td>\n",
              "      <td>0.0</td>\n",
              "      <td>0.0</td>\n",
              "    </tr>\n",
              "    <tr>\n",
              "      <th>25%</th>\n",
              "      <td>15908328.5</td>\n",
              "      <td>15452873.0</td>\n",
              "      <td>38.7</td>\n",
              "      <td>-9.2</td>\n",
              "      <td>49.0</td>\n",
              "      <td>1.0</td>\n",
              "      <td>7.0</td>\n",
              "      <td>0.4</td>\n",
              "      <td>1.0</td>\n",
              "      <td>131.0</td>\n",
              "      <td>1.0</td>\n",
              "    </tr>\n",
              "    <tr>\n",
              "      <th>50%</th>\n",
              "      <td>26219370.0</td>\n",
              "      <td>69064898.0</td>\n",
              "      <td>38.7</td>\n",
              "      <td>-9.1</td>\n",
              "      <td>65.0</td>\n",
              "      <td>2.0</td>\n",
              "      <td>27.0</td>\n",
              "      <td>1.0</td>\n",
              "      <td>4.0</td>\n",
              "      <td>268.0</td>\n",
              "      <td>4.0</td>\n",
              "    </tr>\n",
              "    <tr>\n",
              "      <th>75%</th>\n",
              "      <td>37807199.5</td>\n",
              "      <td>186824778.0</td>\n",
              "      <td>38.7</td>\n",
              "      <td>-9.1</td>\n",
              "      <td>90.0</td>\n",
              "      <td>3.0</td>\n",
              "      <td>84.0</td>\n",
              "      <td>2.0</td>\n",
              "      <td>12.0</td>\n",
              "      <td>340.0</td>\n",
              "      <td>13.0</td>\n",
              "    </tr>\n",
              "    <tr>\n",
              "      <th>max</th>\n",
              "      <td>53567473.0</td>\n",
              "      <td>433801538.0</td>\n",
              "      <td>39.3</td>\n",
              "      <td>-8.9</td>\n",
              "      <td>175.0</td>\n",
              "      <td>4.0</td>\n",
              "      <td>1550.0</td>\n",
              "      <td>64.4</td>\n",
              "      <td>281.0</td>\n",
              "      <td>365.0</td>\n",
              "      <td>821.0</td>\n",
              "    </tr>\n",
              "  </tbody>\n",
              "</table>\n",
              "</div>\n",
              "      <button class=\"colab-df-convert\" onclick=\"convertToInteractive('df-1ad1a47d-16cb-4ebc-824f-30f05411ae00')\"\n",
              "              title=\"Convert this dataframe to an interactive table.\"\n",
              "              style=\"display:none;\">\n",
              "        \n",
              "  <svg xmlns=\"http://www.w3.org/2000/svg\" height=\"24px\"viewBox=\"0 0 24 24\"\n",
              "       width=\"24px\">\n",
              "    <path d=\"M0 0h24v24H0V0z\" fill=\"none\"/>\n",
              "    <path d=\"M18.56 5.44l.94 2.06.94-2.06 2.06-.94-2.06-.94-.94-2.06-.94 2.06-2.06.94zm-11 1L8.5 8.5l.94-2.06 2.06-.94-2.06-.94L8.5 2.5l-.94 2.06-2.06.94zm10 10l.94 2.06.94-2.06 2.06-.94-2.06-.94-.94-2.06-.94 2.06-2.06.94z\"/><path d=\"M17.41 7.96l-1.37-1.37c-.4-.4-.92-.59-1.43-.59-.52 0-1.04.2-1.43.59L10.3 9.45l-7.72 7.72c-.78.78-.78 2.05 0 2.83L4 21.41c.39.39.9.59 1.41.59.51 0 1.02-.2 1.41-.59l7.78-7.78 2.81-2.81c.8-.78.8-2.07 0-2.86zM5.41 20L4 18.59l7.72-7.72 1.47 1.35L5.41 20z\"/>\n",
              "  </svg>\n",
              "      </button>\n",
              "      \n",
              "  <style>\n",
              "    .colab-df-container {\n",
              "      display:flex;\n",
              "      flex-wrap:wrap;\n",
              "      gap: 12px;\n",
              "    }\n",
              "\n",
              "    .colab-df-convert {\n",
              "      background-color: #E8F0FE;\n",
              "      border: none;\n",
              "      border-radius: 50%;\n",
              "      cursor: pointer;\n",
              "      display: none;\n",
              "      fill: #1967D2;\n",
              "      height: 32px;\n",
              "      padding: 0 0 0 0;\n",
              "      width: 32px;\n",
              "    }\n",
              "\n",
              "    .colab-df-convert:hover {\n",
              "      background-color: #E2EBFA;\n",
              "      box-shadow: 0px 1px 2px rgba(60, 64, 67, 0.3), 0px 1px 3px 1px rgba(60, 64, 67, 0.15);\n",
              "      fill: #174EA6;\n",
              "    }\n",
              "\n",
              "    [theme=dark] .colab-df-convert {\n",
              "      background-color: #3B4455;\n",
              "      fill: #D2E3FC;\n",
              "    }\n",
              "\n",
              "    [theme=dark] .colab-df-convert:hover {\n",
              "      background-color: #434B5C;\n",
              "      box-shadow: 0px 1px 3px 1px rgba(0, 0, 0, 0.15);\n",
              "      filter: drop-shadow(0px 1px 2px rgba(0, 0, 0, 0.3));\n",
              "      fill: #FFFFFF;\n",
              "    }\n",
              "  </style>\n",
              "\n",
              "      <script>\n",
              "        const buttonEl =\n",
              "          document.querySelector('#df-1ad1a47d-16cb-4ebc-824f-30f05411ae00 button.colab-df-convert');\n",
              "        buttonEl.style.display =\n",
              "          google.colab.kernel.accessAllowed ? 'block' : 'none';\n",
              "\n",
              "        async function convertToInteractive(key) {\n",
              "          const element = document.querySelector('#df-1ad1a47d-16cb-4ebc-824f-30f05411ae00');\n",
              "          const dataTable =\n",
              "            await google.colab.kernel.invokeFunction('convertToInteractive',\n",
              "                                                     [key], {});\n",
              "          if (!dataTable) return;\n",
              "\n",
              "          const docLinkHtml = 'Like what you see? Visit the ' +\n",
              "            '<a target=\"_blank\" href=https://colab.research.google.com/notebooks/data_table.ipynb>data table notebook</a>'\n",
              "            + ' to learn more about interactive tables.';\n",
              "          element.innerHTML = '';\n",
              "          dataTable['output_type'] = 'display_data';\n",
              "          await google.colab.output.renderOutput(dataTable, element);\n",
              "          const docLink = document.createElement('div');\n",
              "          docLink.innerHTML = docLinkHtml;\n",
              "          element.appendChild(docLink);\n",
              "        }\n",
              "      </script>\n",
              "    </div>\n",
              "  </div>\n",
              "  "
            ]
          },
          "metadata": {},
          "execution_count": 28
        }
      ]
    },
    {
      "cell_type": "markdown",
      "source": [
        "## Qual a média dos preços de aluguel?\n",
        "Em uma análise onde temos o valor do aluguel, se torna interessante saber a média desse valor. De modo a tirar insights que auxiliam no cálculo do gasto com a acomodação, em uma possível viagem.\n",
        "\n",
        "**Foi possível verificar que o valor médio do aluguel das acomodações é 71.53 euros**"
      ],
      "metadata": {
        "id": "_kdES7JEdhtL"
      }
    },
    {
      "cell_type": "code",
      "source": [
        "# ver a média da coluna `price`\n",
        "df_clean['price'].mean()"
      ],
      "metadata": {
        "colab": {
          "base_uri": "https://localhost:8080/"
        },
        "id": "YbiG_yP-d6YL",
        "outputId": "15b61be4-e26a-45ab-d2b1-6d9f225002c1"
      },
      "execution_count": null,
      "outputs": [
        {
          "output_type": "execute_result",
          "data": {
            "text/plain": [
              "71.53353633445806"
            ]
          },
          "metadata": {},
          "execution_count": 29
        }
      ]
    },
    {
      "cell_type": "markdown",
      "source": [
        "Qual a correlação existente entre as variáveis?\n",
        "Correlação significa que existe uma relação entre duas coisas. No contexto da análise, podemos buscar relação ou semelhança entre duas variáveis.\n",
        "\n",
        "Essas relações podem ser medidas, e é função do coeficiente de relação estabelecer qual a intensidade dela. Para identificar as correlações existentes entre as variáveis de interesse, vou:\n",
        "\n",
        "Criar uma matriz de correlação\n",
        "Gerar um heatmap a partir dessa matriz, usando a biblioteca ``seaborn``."
      ],
      "metadata": {
        "id": "O2unjZtSfOhK"
      }
    },
    {
      "cell_type": "code",
      "source": [
        "# criar uma matriz de correlação\n",
        "corr = df_clean[['price', 'minimum_nights', 'number_of_reviews', 'reviews_per_month', 'calculated_host_listings_count', 'availability_365']].corr()\n",
        "# mostrar a matriz de correlação\n",
        "display(corr)"
      ],
      "metadata": {
        "colab": {
          "base_uri": "https://localhost:8080/",
          "height": 238
        },
        "id": "n8PxV9JIfv-e",
        "outputId": "998f6332-1384-4e94-96c7-46168965d92a"
      },
      "execution_count": null,
      "outputs": [
        {
          "output_type": "display_data",
          "data": {
            "text/plain": [
              "                                   price  minimum_nights  number_of_reviews  \\\n",
              "price                           1.000000        0.147661          -0.101052   \n",
              "minimum_nights                  0.147661        1.000000           0.035628   \n",
              "number_of_reviews              -0.101052        0.035628           1.000000   \n",
              "reviews_per_month              -0.119445       -0.078550           0.690594   \n",
              "calculated_host_listings_count  0.131758       -0.088391          -0.118274   \n",
              "availability_365                0.068399       -0.074740           0.002071   \n",
              "\n",
              "                                reviews_per_month  \\\n",
              "price                                   -0.119445   \n",
              "minimum_nights                          -0.078550   \n",
              "number_of_reviews                        0.690594   \n",
              "reviews_per_month                        1.000000   \n",
              "calculated_host_listings_count          -0.074813   \n",
              "availability_365                         0.047531   \n",
              "\n",
              "                                calculated_host_listings_count  \\\n",
              "price                                                 0.131758   \n",
              "minimum_nights                                       -0.088391   \n",
              "number_of_reviews                                    -0.118274   \n",
              "reviews_per_month                                    -0.074813   \n",
              "calculated_host_listings_count                        1.000000   \n",
              "availability_365                                      0.090323   \n",
              "\n",
              "                                availability_365  \n",
              "price                                   0.068399  \n",
              "minimum_nights                         -0.074740  \n",
              "number_of_reviews                       0.002071  \n",
              "reviews_per_month                       0.047531  \n",
              "calculated_host_listings_count          0.090323  \n",
              "availability_365                        1.000000  "
            ],
            "text/html": [
              "\n",
              "  <div id=\"df-c1a44fd9-dd8e-4a9a-913d-1a6b0bae8740\">\n",
              "    <div class=\"colab-df-container\">\n",
              "      <div>\n",
              "<style scoped>\n",
              "    .dataframe tbody tr th:only-of-type {\n",
              "        vertical-align: middle;\n",
              "    }\n",
              "\n",
              "    .dataframe tbody tr th {\n",
              "        vertical-align: top;\n",
              "    }\n",
              "\n",
              "    .dataframe thead th {\n",
              "        text-align: right;\n",
              "    }\n",
              "</style>\n",
              "<table border=\"1\" class=\"dataframe\">\n",
              "  <thead>\n",
              "    <tr style=\"text-align: right;\">\n",
              "      <th></th>\n",
              "      <th>price</th>\n",
              "      <th>minimum_nights</th>\n",
              "      <th>number_of_reviews</th>\n",
              "      <th>reviews_per_month</th>\n",
              "      <th>calculated_host_listings_count</th>\n",
              "      <th>availability_365</th>\n",
              "    </tr>\n",
              "  </thead>\n",
              "  <tbody>\n",
              "    <tr>\n",
              "      <th>price</th>\n",
              "      <td>1.000000</td>\n",
              "      <td>0.147661</td>\n",
              "      <td>-0.101052</td>\n",
              "      <td>-0.119445</td>\n",
              "      <td>0.131758</td>\n",
              "      <td>0.068399</td>\n",
              "    </tr>\n",
              "    <tr>\n",
              "      <th>minimum_nights</th>\n",
              "      <td>0.147661</td>\n",
              "      <td>1.000000</td>\n",
              "      <td>0.035628</td>\n",
              "      <td>-0.078550</td>\n",
              "      <td>-0.088391</td>\n",
              "      <td>-0.074740</td>\n",
              "    </tr>\n",
              "    <tr>\n",
              "      <th>number_of_reviews</th>\n",
              "      <td>-0.101052</td>\n",
              "      <td>0.035628</td>\n",
              "      <td>1.000000</td>\n",
              "      <td>0.690594</td>\n",
              "      <td>-0.118274</td>\n",
              "      <td>0.002071</td>\n",
              "    </tr>\n",
              "    <tr>\n",
              "      <th>reviews_per_month</th>\n",
              "      <td>-0.119445</td>\n",
              "      <td>-0.078550</td>\n",
              "      <td>0.690594</td>\n",
              "      <td>1.000000</td>\n",
              "      <td>-0.074813</td>\n",
              "      <td>0.047531</td>\n",
              "    </tr>\n",
              "    <tr>\n",
              "      <th>calculated_host_listings_count</th>\n",
              "      <td>0.131758</td>\n",
              "      <td>-0.088391</td>\n",
              "      <td>-0.118274</td>\n",
              "      <td>-0.074813</td>\n",
              "      <td>1.000000</td>\n",
              "      <td>0.090323</td>\n",
              "    </tr>\n",
              "    <tr>\n",
              "      <th>availability_365</th>\n",
              "      <td>0.068399</td>\n",
              "      <td>-0.074740</td>\n",
              "      <td>0.002071</td>\n",
              "      <td>0.047531</td>\n",
              "      <td>0.090323</td>\n",
              "      <td>1.000000</td>\n",
              "    </tr>\n",
              "  </tbody>\n",
              "</table>\n",
              "</div>\n",
              "      <button class=\"colab-df-convert\" onclick=\"convertToInteractive('df-c1a44fd9-dd8e-4a9a-913d-1a6b0bae8740')\"\n",
              "              title=\"Convert this dataframe to an interactive table.\"\n",
              "              style=\"display:none;\">\n",
              "        \n",
              "  <svg xmlns=\"http://www.w3.org/2000/svg\" height=\"24px\"viewBox=\"0 0 24 24\"\n",
              "       width=\"24px\">\n",
              "    <path d=\"M0 0h24v24H0V0z\" fill=\"none\"/>\n",
              "    <path d=\"M18.56 5.44l.94 2.06.94-2.06 2.06-.94-2.06-.94-.94-2.06-.94 2.06-2.06.94zm-11 1L8.5 8.5l.94-2.06 2.06-.94-2.06-.94L8.5 2.5l-.94 2.06-2.06.94zm10 10l.94 2.06.94-2.06 2.06-.94-2.06-.94-.94-2.06-.94 2.06-2.06.94z\"/><path d=\"M17.41 7.96l-1.37-1.37c-.4-.4-.92-.59-1.43-.59-.52 0-1.04.2-1.43.59L10.3 9.45l-7.72 7.72c-.78.78-.78 2.05 0 2.83L4 21.41c.39.39.9.59 1.41.59.51 0 1.02-.2 1.41-.59l7.78-7.78 2.81-2.81c.8-.78.8-2.07 0-2.86zM5.41 20L4 18.59l7.72-7.72 1.47 1.35L5.41 20z\"/>\n",
              "  </svg>\n",
              "      </button>\n",
              "      \n",
              "  <style>\n",
              "    .colab-df-container {\n",
              "      display:flex;\n",
              "      flex-wrap:wrap;\n",
              "      gap: 12px;\n",
              "    }\n",
              "\n",
              "    .colab-df-convert {\n",
              "      background-color: #E8F0FE;\n",
              "      border: none;\n",
              "      border-radius: 50%;\n",
              "      cursor: pointer;\n",
              "      display: none;\n",
              "      fill: #1967D2;\n",
              "      height: 32px;\n",
              "      padding: 0 0 0 0;\n",
              "      width: 32px;\n",
              "    }\n",
              "\n",
              "    .colab-df-convert:hover {\n",
              "      background-color: #E2EBFA;\n",
              "      box-shadow: 0px 1px 2px rgba(60, 64, 67, 0.3), 0px 1px 3px 1px rgba(60, 64, 67, 0.15);\n",
              "      fill: #174EA6;\n",
              "    }\n",
              "\n",
              "    [theme=dark] .colab-df-convert {\n",
              "      background-color: #3B4455;\n",
              "      fill: #D2E3FC;\n",
              "    }\n",
              "\n",
              "    [theme=dark] .colab-df-convert:hover {\n",
              "      background-color: #434B5C;\n",
              "      box-shadow: 0px 1px 3px 1px rgba(0, 0, 0, 0.15);\n",
              "      filter: drop-shadow(0px 1px 2px rgba(0, 0, 0, 0.3));\n",
              "      fill: #FFFFFF;\n",
              "    }\n",
              "  </style>\n",
              "\n",
              "      <script>\n",
              "        const buttonEl =\n",
              "          document.querySelector('#df-c1a44fd9-dd8e-4a9a-913d-1a6b0bae8740 button.colab-df-convert');\n",
              "        buttonEl.style.display =\n",
              "          google.colab.kernel.accessAllowed ? 'block' : 'none';\n",
              "\n",
              "        async function convertToInteractive(key) {\n",
              "          const element = document.querySelector('#df-c1a44fd9-dd8e-4a9a-913d-1a6b0bae8740');\n",
              "          const dataTable =\n",
              "            await google.colab.kernel.invokeFunction('convertToInteractive',\n",
              "                                                     [key], {});\n",
              "          if (!dataTable) return;\n",
              "\n",
              "          const docLinkHtml = 'Like what you see? Visit the ' +\n",
              "            '<a target=\"_blank\" href=https://colab.research.google.com/notebooks/data_table.ipynb>data table notebook</a>'\n",
              "            + ' to learn more about interactive tables.';\n",
              "          element.innerHTML = '';\n",
              "          dataTable['output_type'] = 'display_data';\n",
              "          await google.colab.output.renderOutput(dataTable, element);\n",
              "          const docLink = document.createElement('div');\n",
              "          docLink.innerHTML = docLinkHtml;\n",
              "          element.appendChild(docLink);\n",
              "        }\n",
              "      </script>\n",
              "    </div>\n",
              "  </div>\n",
              "  "
            ]
          },
          "metadata": {}
        }
      ]
    },
    {
      "cell_type": "code",
      "source": [
        "# plotar um heatmap a partir das correlações\n",
        "sns.heatmap(corr, cmap='RdBu' , fmt='.2f', square=True, linecolor='white', annot=True);"
      ],
      "metadata": {
        "colab": {
          "base_uri": "https://localhost:8080/",
          "height": 411
        },
        "id": "zgpBPsCsf1ea",
        "outputId": "e9633122-80da-4a12-8467-941a26f0b1d5"
      },
      "execution_count": null,
      "outputs": [
        {
          "output_type": "display_data",
          "data": {
            "text/plain": [
              "<Figure size 432x288 with 2 Axes>"
            ],
            "image/png": "[encoded data removed]"
          },
          "metadata": {
            "needs_background": "light"
          }
        }
      ]
    },
    {
      "cell_type": "markdown",
      "source": [
        "##Qual o tipo de imóvel mais alugado no Airbnb?\n",
        "A coluna ``room_typeindica`` qual categoria de imóvel está anunciado na plataforma. No site, existem opções de apartamentos/casas inteiras, aluguel de um quarto privado ou até mesmo dividir o mesmo quarto com outras pessoas.\n",
        "\n",
        "Vamos contar a quantidade de ocorrências de cada tipo de aluguel, usando o método ``value_counts()``."
      ],
      "metadata": {
        "id": "d_jJxIdAf7Vu"
      }
    },
    {
      "cell_type": "code",
      "source": [
        "# mostrar a quantidade de cada tipo de imóvel disponível\n",
        "df_clean.room_type.value_counts()"
      ],
      "metadata": {
        "colab": {
          "base_uri": "https://localhost:8080/"
        },
        "id": "5Du71VvFgG_C",
        "outputId": "49d7f998-f33e-4185-a665-c16ce170ba93"
      },
      "execution_count": null,
      "outputs": [
        {
          "output_type": "execute_result",
          "data": {
            "text/plain": [
              "Entire home/apt    9657\n",
              "Private room       2177\n",
              "Hotel room          169\n",
              "Shared room         148\n",
              "Name: room_type, dtype: int64"
            ]
          },
          "metadata": {},
          "execution_count": 32
        }
      ]
    },
    {
      "cell_type": "markdown",
      "source": [
        "Os tipos de Imóveis que mais aparece são, em ordem:\n",
        "\n",
        "* Quartos privados\n",
        "* Casa/Apt inteiros\n",
        "* Quartos compartilhados\n",
        "* Quartos de Hotel"
      ],
      "metadata": {
        "id": "_eneannMgcF6"
      }
    },
    {
      "cell_type": "code",
      "source": [
        "# mostrar a porcentagem de cada tipo de imóvel disponível\n",
        "(df_clean.room_type.value_counts() / df.shape[0])*100"
      ],
      "metadata": {
        "colab": {
          "base_uri": "https://localhost:8080/"
        },
        "id": "tsXfi5R_gZfr",
        "outputId": "28bca34d-5b05-4992-a44e-09981709da60"
      },
      "execution_count": null,
      "outputs": [
        {
          "output_type": "execute_result",
          "data": {
            "text/plain": [
              "Entire home/apt    66.811955\n",
              "Private room       15.061575\n",
              "Hotel room          1.169227\n",
              "Shared room         1.023938\n",
              "Name: room_type, dtype: float64"
            ]
          },
          "metadata": {},
          "execution_count": 34
        }
      ]
    },
    {
      "cell_type": "markdown",
      "source": [
        "Os imóveis tem uma distribuição bem interessante, veja:\n",
        "\n",
        "* Quartos privados e Casas/apts inteiros ocupam cerca de 81% dos imóveis anunciados\n",
        "* E apenas 1% são Quartos compartilhados"
      ],
      "metadata": {
        "id": "fPNPxJ3hg57i"
      }
    },
    {
      "cell_type": "markdown",
      "source": [
        "Preço dos imóveis próximo a Lisboa?\n",
        "É possível verificar uma variável em função de outra, usando groupby(). Neste caso, queremos comparar as cidades próximas (neighbourhoods) a partir do preço do aluguel. Espera-se que a maior concentração de preços mais elevados estajam em Lisboa e nas suas adjacências. \n",
        "\n",
        "É possível ver essa escala através da plotagem gráfica."
      ],
      "metadata": {
        "id": "Fsl2SrTriOLE"
      }
    },
    {
      "cell_type": "code",
      "source": [
        "# ver preços de cidades próximas, na média\n",
        "df_clean.groupby(['neighbourhood']).price.mean().sort_values(ascending=False)[:10]"
      ],
      "metadata": {
        "colab": {
          "base_uri": "https://localhost:8080/"
        },
        "id": "bLd7NqkgiWLM",
        "outputId": "9031c2f1-10e0-4843-b768-7af5c61b7ae4"
      },
      "execution_count": null,
      "outputs": [
        {
          "output_type": "execute_result",
          "data": {
            "text/plain": [
              "neighbourhood\n",
              "Turcifal                   160.000000\n",
              "Meca                       119.000000\n",
              "Dois Portos e Runa         117.500000\n",
              "Vilar                       97.166667\n",
              "Ribamar                     95.000000\n",
              "Igreja Nova e Cheleiros     91.916667\n",
              "Parque das Naes             91.294118\n",
              "Alcoentre                   90.000000\n",
              "Sobral de Monte Agrao       90.000000\n",
              "Bucelas                     86.333333\n",
              "Name: price, dtype: float64"
            ]
          },
          "metadata": {},
          "execution_count": 37
        }
      ]
    },
    {
      "cell_type": "code",
      "source": [
        "# plotar os imóveis pela latitude-longitude\n",
        "df_clean.plot(kind='scatter', x='longitude', y='latitude', alpha=0.4, c=df_clean['price'], s=8,\n",
        "        cmap=plt.get_cmap('jet'), figsize=(12,8));"
      ],
      "metadata": {
        "colab": {
          "base_uri": "https://localhost:8080/",
          "height": 469
        },
        "id": "KQhyWAIvs4O-",
        "outputId": "93221868-e5ae-46d6-d599-0cb1ed008f70"
      },
      "execution_count": null,
      "outputs": [
        {
          "output_type": "display_data",
          "data": {
            "text/plain": [
              "<Figure size 864x576 with 2 Axes>"
            ],
            "image/png": "[encoded data removed]"
          },
          "metadata": {
            "needs_background": "light"
          }
        }
      ]
    },
    {
      "cell_type": "markdown",
      "source": [
        "##Qual é a média do mínimo de noites para aluguel (minimum_nights)?\n",
        "Podemos ver que a média do mínimo de noites é 2 noites, isso nos mostra que os proprietários tendem a disponibilizar os imóveis por no mínimo 2 noites (fins de semana)"
      ],
      "metadata": {
        "id": "PzDxrJUZvV5d"
      }
    },
    {
      "cell_type": "code",
      "source": [
        "# ver a média da coluna `minimum_nights`\n",
        "\n",
        "df_clean['minimum_nights'].mean()"
      ],
      "metadata": {
        "colab": {
          "base_uri": "https://localhost:8080/"
        },
        "id": "JcL-dWQmvVao",
        "outputId": "e7c3218a-26a7-42d9-97a2-1ae81b9acb42"
      },
      "execution_count": null,
      "outputs": [
        {
          "output_type": "execute_result",
          "data": {
            "text/plain": [
              "2.137766438976216"
            ]
          },
          "metadata": {},
          "execution_count": 49
        }
      ]
    },
    {
      "cell_type": "markdown",
      "source": [
        "##Conclusões\n",
        "Neste projeto, conseguimos tirar algumas informações sobre o Airbnb na cidade de Lisboa.\n",
        "\n",
        "* Cerca de 66% dos anúncios são apenas de Entire home/apt, o que demonstra uma procura maior por privacidade dos hospedes.\n",
        "* A média de preços é de 71.53 Euros, o que convertendo em reais na cotação atual e cerca de 365,36 R$ ou cerca de 30,14% do salário mínimo brasileiro.\n",
        "* Cidades próximas a Lisboa tendem a ter o preço equiparado a ela.\n",
        "* A média de minimum_nights é cerca de 2 noites, geralmente para que os hóspedes aluguem ao menos por um fim de semana (sábado e domingo)."
      ],
      "metadata": {
        "id": "No4kKf-wvngc"
      }
    }
  ]
}